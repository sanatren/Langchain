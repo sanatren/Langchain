{
 "cells": [
  {
   "cell_type": "markdown",
   "metadata": {},
   "source": [
    "### Simple LCEL APP\n",
    "this application will translate the english text to another lnaguage Using langchain expressive language(LCEL) to chain components together"
   ]
  },
  {
   "cell_type": "code",
   "execution_count": 1,
   "metadata": {},
   "outputs": [],
   "source": [
    "import os\n",
    "from dotenv import load_dotenv\n",
    "load_dotenv()\n",
    "\n",
    "import openai\n",
    "openai.api_key = os.getenv(\"OPENAI_API_KEY\")\n",
    "\n",
    "groq_api_key = os.getenv(\"GROQ_KEY\")\n"
   ]
  },
  {
   "cell_type": "code",
   "execution_count": 2,
   "metadata": {},
   "outputs": [
    {
     "data": {
      "text/plain": [
       "ChatGroq(client=<groq.resources.chat.completions.Completions object at 0x10e8e3d60>, async_client=<groq.resources.chat.completions.AsyncCompletions object at 0x10e8b8970>, model_name='Gemma2-9b-It', model_kwargs={}, groq_api_key=SecretStr('**********'))"
      ]
     },
     "execution_count": 2,
     "metadata": {},
     "output_type": "execute_result"
    }
   ],
   "source": [
    "from langchain_groq import ChatGroq\n",
    "from langchain_openai import ChatOpenAI\n",
    "model = ChatGroq(model=\"Gemma2-9b-It\",groq_api_key=groq_api_key)\n",
    "model"
   ]
  },
  {
   "cell_type": "code",
   "execution_count": 7,
   "metadata": {},
   "outputs": [],
   "source": [
    "from langchain_core.messages import HumanMessage,SystemMessage\n",
    "\n",
    "messages = [\n",
    "    SystemMessage(content=\"Translate the following from english to any language that is being asked \"),\n",
    "    HumanMessage(content=\"why are still struggling? , convert this to hindi\")\n",
    "]\n",
    "result = model.invoke(messages)"
   ]
  },
  {
   "cell_type": "code",
   "execution_count": 6,
   "metadata": {},
   "outputs": [
    {
     "data": {
      "text/plain": [
       "'The translation of \"Hello, How are you?\" to Hindi is:\\n\\n**नमस्ते, आप कैसे हैं?** (Namaste, aap kaise hain?) \\n\\n\\nLet me know if you\\'d like to translate anything else! \\n'"
      ]
     },
     "execution_count": 6,
     "metadata": {},
     "output_type": "execute_result"
    }
   ],
   "source": [
    "from langchain_core.output_parsers  import StrOutputParser\n",
    "parser = StrOutputParser()\n",
    "\n",
    "parser.invoke(result)"
   ]
  },
  {
   "cell_type": "code",
   "execution_count": 8,
   "metadata": {},
   "outputs": [
    {
     "data": {
      "text/plain": [
       "'The English phrase \"Why are you still struggling?\" translated to Hindi is:\\n\\n**आप अभी भी संघर्ष क्यों कर रहे हैं?** (aap abhi bhi sangarsh kyun kar rahe hain?) \\n'"
      ]
     },
     "execution_count": 8,
     "metadata": {},
     "output_type": "execute_result"
    }
   ],
   "source": [
    "### Using LCEL to chain the components\n",
    "\n",
    "chain = model|parser\n",
    "chain.invoke(messages)"
   ]
  },
  {
   "cell_type": "code",
   "execution_count": 11,
   "metadata": {},
   "outputs": [],
   "source": [
    "### prompt templates\n",
    "from langchain_core.prompts import ChatPromptTemplate\n",
    "generic_temp = \"Translate the following into {language}:\"\n",
    "\n",
    "prompt = ChatPromptTemplate.from_messages(\n",
    "    [(\"system\",generic_temp),(\"user\",\"{text}\")]\n",
    ")"
   ]
  },
  {
   "cell_type": "code",
   "execution_count": 13,
   "metadata": {},
   "outputs": [
    {
     "data": {
      "text/plain": [
       "ChatPromptValue(messages=[SystemMessage(content='Translate the following into Japanese:', additional_kwargs={}, response_metadata={}), HumanMessage(content='suddenly', additional_kwargs={}, response_metadata={})])"
      ]
     },
     "execution_count": 13,
     "metadata": {},
     "output_type": "execute_result"
    }
   ],
   "source": [
    "result = prompt.invoke({\"language\":\"Japanese\",\"text\":\"suddenly\"})"
   ]
  },
  {
   "cell_type": "code",
   "execution_count": 15,
   "metadata": {},
   "outputs": [],
   "source": [
    "chain=prompt|model|parser"
   ]
  },
  {
   "cell_type": "code",
   "execution_count": 16,
   "metadata": {},
   "outputs": [
    {
     "data": {
      "text/plain": [
       "'Here are a few ways to translate \"suddenly\" into Japanese, depending on the context:\\n\\n**General:**\\n\\n* **急に (kyūni)** - This is the most common and versatile translation for \"suddenly.\" \\n* **いきなり (iriki)** - Similar to \"kyūni,\" but often implies a more abrupt or unexpected change.\\n\\n**Emphasis on surprise:**\\n\\n* **あっけなく (akkenaku)** - This emphasizes the suddenness and the element of surprise.\\n\\n**Example sentences:**\\n\\n*  **彼は急に立ち上がった。** (Kare wa kyūni tachidatta.) - He suddenly stood up.\\n* **雨がいきなり降り出した。** (Ame ga iriki furi dasita.) - The rain suddenly started pouring.\\n* **彼女はあっけなく消えてしまった。** (Kanojo wa akkenaku kiete shimatta.) - She disappeared suddenly.\\n\\n\\n\\nChoose the translation that best fits the specific context of your sentence.\\n'"
      ]
     },
     "execution_count": 16,
     "metadata": {},
     "output_type": "execute_result"
    }
   ],
   "source": [
    "chain.invoke({\"language\":\"Japanese\",\"text\":\"suddenly\"})"
   ]
  },
  {
   "cell_type": "code",
   "execution_count": null,
   "metadata": {},
   "outputs": [],
   "source": [
    "## We will serve this as api in serve.py"
   ]
  }
 ],
 "metadata": {
  "kernelspec": {
   "display_name": "venv",
   "language": "python",
   "name": "python3"
  },
  "language_info": {
   "codemirror_mode": {
    "name": "ipython",
    "version": 3
   },
   "file_extension": ".py",
   "mimetype": "text/x-python",
   "name": "python",
   "nbconvert_exporter": "python",
   "pygments_lexer": "ipython3",
   "version": "3.10.16"
  }
 },
 "nbformat": 4,
 "nbformat_minor": 2
}
