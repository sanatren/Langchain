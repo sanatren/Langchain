{
 "cells": [
  {
   "cell_type": "markdown",
   "metadata": {},
   "source": [
    "## Chroma \n",
    "chroma is an AI-native open-source vector database focused on developer productivity. Chroma is licensed under Apache2.0\n"
   ]
  },
  {
   "cell_type": "code",
   "execution_count": 1,
   "metadata": {},
   "outputs": [],
   "source": [
    "from langchain_community.vectorstores import Chroma\n",
    "from langchain_community.embeddings import OpenAIEmbeddings\n",
    "from langchain_community.document_loaders import TextLoader\n",
    "from langchain_text_splitters import RecursiveCharacterTextSplitter\n",
    "from chromadb.config import Settings \n",
    "\n",
    "loader = TextLoader(\"speech.md\")\n",
    "initial_load = loader.load()"
   ]
  },
  {
   "cell_type": "code",
   "execution_count": 2,
   "metadata": {},
   "outputs": [],
   "source": [
    "splitter = RecursiveCharacterTextSplitter(chunk_size=100,chunk_overlap=10)\n",
    "docs = splitter.split_documents(initial_load)"
   ]
  },
  {
   "cell_type": "code",
   "execution_count": 3,
   "metadata": {},
   "outputs": [
    {
     "data": {
      "text/plain": [
       "[Document(metadata={'source': 'speech.md'}, page_content='Ladies and gentlemen,'),\n",
       " Document(metadata={'source': 'speech.md'}, page_content='Today, we stand at the crossroads of innovation and tradition. Technology has transformed the way'),\n",
       " Document(metadata={'source': 'speech.md'}, page_content='the way we live, work, and communicate. It is our responsibility to harness this power for the'),\n",
       " Document(metadata={'source': 'speech.md'}, page_content='for the greater good.'),\n",
       " Document(metadata={'source': 'speech.md'}, page_content=\"Together, let's build a future that is inclusive, sustainable, and driven by knowledge.\"),\n",
       " Document(metadata={'source': 'speech.md'}, page_content='Thank you.')]"
      ]
     },
     "execution_count": 3,
     "metadata": {},
     "output_type": "execute_result"
    }
   ],
   "source": [
    "docs"
   ]
  },
  {
   "cell_type": "code",
   "execution_count": 4,
   "metadata": {},
   "outputs": [
    {
     "name": "stderr",
     "output_type": "stream",
     "text": [
      "/var/folders/9n/s9t73f3s6lj4xm2bpssc4mw00000gn/T/ipykernel_37760/1536289434.py:6: LangChainDeprecationWarning: The class `OpenAIEmbeddings` was deprecated in LangChain 0.0.9 and will be removed in 1.0. An updated version of the class exists in the :class:`~langchain-openai package and should be used instead. To use it run `pip install -U :class:`~langchain-openai` and import as `from :class:`~langchain_openai import OpenAIEmbeddings``.\n",
      "  embeddings = OpenAIEmbeddings(api_key=api_key2,model=\"text-embedding-3-large\",dimensions=1024)\n",
      "/Users/sanatankhemariya/Developer/Langchain/venv/lib/python3.10/site-packages/langchain_community/embeddings/openai.py:271: UserWarning: WARNING! dimensions is not default parameter.\n",
      "                    dimensions was transferred to model_kwargs.\n",
      "                    Please confirm that dimensions is what you intended.\n",
      "  warnings.warn(\n"
     ]
    }
   ],
   "source": [
    "from dotenv import load_dotenv\n",
    "import os\n",
    "load_dotenv()\n",
    "api_key2 = os.getenv(\"OPENAI_API_KEY\")\n",
    "\n",
    "embeddings = OpenAIEmbeddings(api_key=api_key2,model=\"text-embedding-3-large\",dimensions=1024)"
   ]
  },
  {
   "cell_type": "code",
   "execution_count": 13,
   "metadata": {},
   "outputs": [],
   "source": [
    "from langchain_community.vectorstores import Chroma\n",
    "\n",
    "vectordb = Chroma(\n",
    "    collection_name=\"my_collection\",  # A string is required here\n",
    "    embedding_function=embeddings,\n",
    "    persist_directory=\"./chroma_db\"  # This saves to disk\n",
    ")"
   ]
  },
  {
   "cell_type": "code",
   "execution_count": 14,
   "metadata": {},
   "outputs": [
    {
     "name": "stdout",
     "output_type": "stream",
     "text": [
      "Documents added to Chroma database.\n"
     ]
    }
   ],
   "source": [
    "vectordb.add_documents(documents=docs)\n",
    "print(\"Documents added to Chroma database.\")"
   ]
  },
  {
   "cell_type": "code",
   "execution_count": 15,
   "metadata": {},
   "outputs": [
    {
     "name": "stdout",
     "output_type": "stream",
     "text": [
      "Chroma database saved successfully.\n"
     ]
    },
    {
     "name": "stderr",
     "output_type": "stream",
     "text": [
      "/var/folders/9n/s9t73f3s6lj4xm2bpssc4mw00000gn/T/ipykernel_37760/960293067.py:1: LangChainDeprecationWarning: Since Chroma 0.4.x the manual persistence method is no longer supported as docs are automatically persisted.\n",
      "  vectordb.persist()\n"
     ]
    }
   ],
   "source": [
    "vectordb.persist()\n",
    "print(\"Chroma database saved successfully.\")"
   ]
  },
  {
   "cell_type": "code",
   "execution_count": 16,
   "metadata": {},
   "outputs": [],
   "source": [
    "query = \"what transformed the lives of people?\"\n",
    "results = vectordb.similarity_search(query)"
   ]
  },
  {
   "cell_type": "code",
   "execution_count": 17,
   "metadata": {},
   "outputs": [
    {
     "data": {
      "text/plain": [
       "'the way we live, work, and communicate. It is our responsibility to harness this power for the'"
      ]
     },
     "execution_count": 17,
     "metadata": {},
     "output_type": "execute_result"
    }
   ],
   "source": [
    "results[0].page_content"
   ]
  },
  {
   "cell_type": "code",
   "execution_count": 18,
   "metadata": {},
   "outputs": [
    {
     "name": "stdout",
     "output_type": "stream",
     "text": [
      "Top match: the way we live, work, and communicate. It is our responsibility to harness this power for the\n"
     ]
    }
   ],
   "source": [
    "# ✅ Display results\n",
    "if results:\n",
    "    print(\"Top match:\", results[0].page_content)\n",
    "else:\n",
    "    print(\"No relevant results found.\")"
   ]
  },
  {
   "cell_type": "code",
   "execution_count": null,
   "metadata": {},
   "outputs": [],
   "source": []
  }
 ],
 "metadata": {
  "kernelspec": {
   "display_name": "venv",
   "language": "python",
   "name": "python3"
  },
  "language_info": {
   "codemirror_mode": {
    "name": "ipython",
    "version": 3
   },
   "file_extension": ".py",
   "mimetype": "text/x-python",
   "name": "python",
   "nbconvert_exporter": "python",
   "pygments_lexer": "ipython3",
   "version": "3.10.16"
  }
 },
 "nbformat": 4,
 "nbformat_minor": 2
}
