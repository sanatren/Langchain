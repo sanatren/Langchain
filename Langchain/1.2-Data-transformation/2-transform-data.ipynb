{
 "cells": [
  {
   "cell_type": "markdown",
   "metadata": {},
   "source": [
    "### How to split by character -Character Text splitter\n",
    "\n",
    "This splits based on a given character sequences , which defaults to \"\\n\\n\". Chunk length is measured by number of\n",
    "characters.\n",
    "\n",
    "the text is split by single character separator.\n",
    "the chunk size is measured by number of characters.\n"
   ]
  },
  {
   "cell_type": "markdown",
   "metadata": {},
   "source": []
  },
  {
   "cell_type": "code",
   "execution_count": 1,
   "metadata": {},
   "outputs": [
    {
     "data": {
      "text/plain": [
       "[Document(metadata={'source': './speech.md'}, page_content=\"Ladies and gentlemen,\\n\\nToday, we stand at the crossroads of innovation and tradition. Technology has transformed the way we live, work, and communicate. It is our responsibility to harness this power for the greater good.\\n\\nTogether, let's build a future that is inclusive, sustainable, and driven by knowledge.\\n\\nThank you.\\n\")]"
      ]
     },
     "execution_count": 1,
     "metadata": {},
     "output_type": "execute_result"
    }
   ],
   "source": [
    "from langchain_community.document_loaders import TextLoader  #text loader\n",
    "loader = TextLoader('./speech.md')\n",
    "text_document = loader.load() #load the text as document object\n",
    "text_document"
   ]
  },
  {
   "cell_type": "code",
   "execution_count": 6,
   "metadata": {},
   "outputs": [
    {
     "name": "stderr",
     "output_type": "stream",
     "text": [
      "Created a chunk of size 198, which is longer than the specified 100\n"
     ]
    },
    {
     "data": {
      "text/plain": [
       "[Document(metadata={'source': './speech.md'}, page_content='Ladies and gentlemen,'),\n",
       " Document(metadata={'source': './speech.md'}, page_content='Today, we stand at the crossroads of innovation and tradition. Technology has transformed the way we live, work, and communicate. It is our responsibility to harness this power for the greater good.'),\n",
       " Document(metadata={'source': './speech.md'}, page_content=\"Together, let's build a future that is inclusive, sustainable, and driven by knowledge.\\n\\nThank you.\")]"
      ]
     },
     "execution_count": 6,
     "metadata": {},
     "output_type": "execute_result"
    }
   ],
   "source": [
    "from langchain_text_splitters import CharacterTextSplitter\n",
    "C_splitters = CharacterTextSplitter(separator='\\n\\n',chunk_size=100,chunk_overlap=20)\n",
    "C_splitters.split_documents(text_document)"
   ]
  },
  {
   "cell_type": "markdown",
   "metadata": {},
   "source": [
    "it created the chunk size of 198 instead of 100 because it was not able to find the sperator(\\n\\n) so it build the chunk size of 198 next smallest where it found the splitter"
   ]
  },
  {
   "cell_type": "code",
   "execution_count": null,
   "metadata": {},
   "outputs": [],
   "source": []
  },
  {
   "cell_type": "code",
   "execution_count": null,
   "metadata": {},
   "outputs": [],
   "source": []
  },
  {
   "cell_type": "code",
   "execution_count": null,
   "metadata": {},
   "outputs": [],
   "source": []
  }
 ],
 "metadata": {
  "kernelspec": {
   "display_name": "venv",
   "language": "python",
   "name": "python3"
  },
  "language_info": {
   "codemirror_mode": {
    "name": "ipython",
    "version": 3
   },
   "file_extension": ".py",
   "mimetype": "text/x-python",
   "name": "python",
   "nbconvert_exporter": "python",
   "pygments_lexer": "ipython3",
   "version": "3.10.16"
  }
 },
 "nbformat": 4,
 "nbformat_minor": 2
}
