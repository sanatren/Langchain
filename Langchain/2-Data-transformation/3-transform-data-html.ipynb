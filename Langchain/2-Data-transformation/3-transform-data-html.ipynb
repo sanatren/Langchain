{
 "cells": [
  {
   "cell_type": "markdown",
   "metadata": {},
   "source": [
    "### How to split by HTML header\n",
    "\n",
    "it is structure aware chunker that splits text at the HTML element level and adds metadata for each header relevent to given chunk."
   ]
  },
  {
   "cell_type": "code",
   "execution_count": 4,
   "metadata": {},
   "outputs": [
    {
     "name": "stdout",
     "output_type": "stream",
     "text": [
      "[Document(metadata={}, page_content=\"Your one-stop page for simplicity and elegance!  \\nThis is a simple example of an HTML webpage. It's clean and minimal, perfect for learning or quick use.  \\nClean layout Minimal design Easy to edit and use  \\nIf you have any questions, feel free to email us.  \\n© 2025 Simple Webpage Inc. All rights reserved.\")]\n"
     ]
    }
   ],
   "source": [
    "from langchain_text_splitters import HTMLHeaderTextSplitter\n",
    "html_string = \"\"\"\n",
    "<!DOCTYPE html>\n",
    "<html lang=\"en\">\n",
    "<head>\n",
    "    <meta charset=\"UTF-8\">\n",
    "    <meta name=\"viewport\" content=\"width=device-width, initial-scale=1.0\">\n",
    "    <title>Simple Webpage</title>\n",
    "</head>\n",
    "<body>\n",
    "    <header>\n",
    "        <h1>Welcome to My Simple Webpage</h1>\n",
    "        <p>Your one-stop page for simplicity and elegance!</p>\n",
    "    </header>\n",
    "\n",
    "    <main>\n",
    "        <section>\n",
    "            <h2>About This Page</h2>\n",
    "            <p>This is a simple example of an HTML webpage. It's clean and minimal, perfect for learning or quick use.</p>\n",
    "        </section>\n",
    "\n",
    "        <section>\n",
    "            <h2>Features</h2>\n",
    "            <ul>\n",
    "                <li>Clean layout</li>\n",
    "                <li>Minimal design</li>\n",
    "                <li>Easy to edit and use</li>\n",
    "            </ul>\n",
    "        </section>\n",
    "\n",
    "        <section>\n",
    "            <h2>Contact</h2>\n",
    "            <p>If you have any questions, feel free to <a href=\"mailto:example@example.com\">email us</a>.</p>\n",
    "        </section>\n",
    "    </main>\n",
    "\n",
    "    <footer>\n",
    "        <p>&copy; 2025 Simple Webpage Inc. All rights reserved.</p>\n",
    "    </footer>\n",
    "</body>\n",
    "</html>\n",
    "\"\"\"\n",
    "header_to_split_on = {\n",
    "    \"h1\":\"Header 1\"\n",
    "    \n",
    "}\n",
    "splitter = HTMLHeaderTextSplitter(header_to_split_on)\n",
    "html_header_split = splitter.split_text(html_string)\n",
    "print(html_header_split)"
   ]
  },
  {
   "cell_type": "code",
   "execution_count": 5,
   "metadata": {},
   "outputs": [
    {
     "name": "stdout",
     "output_type": "stream",
     "text": [
      "[Document(metadata={}, page_content=\"Skip to main content  \\nSearch...  \\nCTRLK  \\nWelcome to Langflow  \\nGet started  \\nStarter projects  \\nTutorials  \\nConcepts  \\nComponents  \\nAgents  \\nConfiguration  \\nDeployment  \\nIntegrations  \\nContributing  \\nAPI reference  \\nChangelog  \\nWelcome to Langflow  \\nOn this page  \\nWelcome to Langflow Visual flow builder\\u200b Use cases\\u200b Community and support\\u200b Get started with Langflow\\u200b  \\nLangflow is a new, visual framework for building multi-agent and RAG applications. It is open-source, Python-powered, fully customizable, and LLM and vector store agnostic.  \\nIts intuitive interface allows for easy manipulation of AI building blocks, enabling developers to quickly prototype and turn their ideas into powerful, real-world solutions.  \\nLangflow empowers developers to rapidly prototype and build AI applications with its user-friendly interface and powerful features. Whether you're a seasoned AI developer or just starting out, Langflow provides the tools you need to bring your AI ideas to life.  \\nLangflow is an intuitive visual flow builder. This drag-and-drop interface allows developers to create complex AI workflows without writing extensive code. You can easily connect different components, such as prompts, language models, and data sources, to build sophisticated AI applications.  \\nLangflow can be used for a wide range of AI applications, including:  \\nCraft intelligent chatbots Build document analysis systems Generate compelling content Orchestrate multi-agent applications  \\nJoin Langflow's vibrant community of developers and AI enthusiasts. See the following resources to join discussions, share your projects, and get support:  \\nContribute to Langflow Langflow Discord Server @langflow_ai\\xa0  \\nInstall Langflow Quickstart  \\nNext  \\nInstall Langflow  \\nVisual flow builderUse casesCommunity and supportGet started with Langflow  \\nHi, how can I help you?\")]\n"
     ]
    }
   ],
   "source": [
    "url = \"https://docs.langflow.org/\"\n",
    "\n",
    "header_to_split={\n",
    "    \"h1\":\"Header 1\",\n",
    "    \"h2\":\"Header 2\",\n",
    "    \"h3\":\"Header 3\"\n",
    "}\n",
    "\n",
    "splitter = HTMLHeaderTextSplitter(header_to_split)\n",
    "html_header_split = splitter.split_text_from_url(url)\n",
    "print(html_header_split)"
   ]
  },
  {
   "cell_type": "code",
   "execution_count": null,
   "metadata": {},
   "outputs": [],
   "source": []
  },
  {
   "cell_type": "code",
   "execution_count": null,
   "metadata": {},
   "outputs": [],
   "source": []
  },
  {
   "cell_type": "code",
   "execution_count": null,
   "metadata": {},
   "outputs": [],
   "source": []
  },
  {
   "cell_type": "code",
   "execution_count": null,
   "metadata": {},
   "outputs": [],
   "source": []
  }
 ],
 "metadata": {
  "kernelspec": {
   "display_name": "venv",
   "language": "python",
   "name": "python3"
  },
  "language_info": {
   "codemirror_mode": {
    "name": "ipython",
    "version": 3
   },
   "file_extension": ".py",
   "mimetype": "text/x-python",
   "name": "python",
   "nbconvert_exporter": "python",
   "pygments_lexer": "ipython3",
   "version": "3.10.16"
  }
 },
 "nbformat": 4,
 "nbformat_minor": 2
}
