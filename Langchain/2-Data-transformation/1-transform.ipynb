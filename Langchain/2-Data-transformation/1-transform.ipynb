{
 "cells": [
  {
   "cell_type": "code",
   "execution_count": 1,
   "metadata": {},
   "outputs": [],
   "source": []
  },
  {
   "cell_type": "markdown",
   "metadata": {},
   "source": [
    "### Text splitting from Documents - RecursiveCharacter text Splitters\n",
    "\n",
    "This text splitter is the recommended one for generic text. it is parameterized by a list of characters. it tries to split on them in order until the chunks are small enough."
   ]
  },
  {
   "cell_type": "code",
   "execution_count": 22,
   "metadata": {},
   "outputs": [],
   "source": [
    "#reading the pdf file \n",
    "from langchain_community.document_loaders import PyPDFLoader\n",
    "loader = PyPDFLoader('sample.pdf')\n",
    "pages = loader.load_and_split()"
   ]
  },
  {
   "cell_type": "code",
   "execution_count": 2,
   "metadata": {},
   "outputs": [
    {
     "name": "stdout",
     "output_type": "stream",
     "text": [
      "page_content='Welcome to Smallpdf\n",
      "Digital Documents—All In One Place\n",
      "Access Files Anytime, Anywhere \n",
      "Enhance Documents in One Click \n",
      "Collaborate With Others \n",
      "With the new Smallpdf experience, you can \n",
      "freely upload, organize, and share digital \n",
      "documents. When you enable the ‘Storage’ \n",
      "option, we’ll also store all processed files here. \n",
      "You can access files stored on Smallpdf from \n",
      "your computer, phone, or tablet. We’ll also \n",
      "sync files from the Smallpdf Mobile App to our \n",
      "online portal\n",
      "When you right-click on a file, we’ll present \n",
      "you with an array of options to convert, \n",
      "compress, or modify it. \n",
      "Forget mundane administrative tasks. With \n",
      "Smallpdf, you can request e-signatures, send \n",
      "large files, or even enable the Smallpdf G Suite \n",
      "App for your entire organization. \n",
      "Ready to take document management to the next level?' metadata={'source': 'sample.pdf', 'page': 0, 'page_label': '1'}\n"
     ]
    },
    {
     "data": {
      "text/plain": [
       "list"
      ]
     },
     "execution_count": 2,
     "metadata": {},
     "output_type": "execute_result"
    }
   ],
   "source": [
    "print(pages[0])\n",
    "type(pages)"
   ]
  },
  {
   "cell_type": "markdown",
   "metadata": {},
   "source": [
    "### recurcively spilt text by characters"
   ]
  },
  {
   "cell_type": "code",
   "execution_count": 3,
   "metadata": {},
   "outputs": [
    {
     "data": {
      "text/plain": [
       "[Document(metadata={'source': 'sample.pdf', 'page': 0, 'page_label': '1'}, page_content='Welcome to Smallpdf\\nDigital Documents—All In One Place\\nAccess Files Anytime, Anywhere \\nEnhance Documents in One Click \\nCollaborate With Others \\nWith the new Smallpdf experience, you can \\nfreely upload, organize, and share digital \\ndocuments. When you enable the ‘Storage’ \\noption, we’ll also store all processed files here. \\nYou can access files stored on Smallpdf from \\nyour computer, phone, or tablet. We’ll also \\nsync files from the Smallpdf Mobile App to our \\nonline portal'),\n",
       " Document(metadata={'source': 'sample.pdf', 'page': 0, 'page_label': '1'}, page_content='online portal\\nWhen you right-click on a file, we’ll present \\nyou with an array of options to convert, \\ncompress, or modify it. \\nForget mundane administrative tasks. With \\nSmallpdf, you can request e-signatures, send \\nlarge files, or even enable the Smallpdf G Suite \\nApp for your entire organization. \\nReady to take document management to the next level?')]"
      ]
     },
     "execution_count": 3,
     "metadata": {},
     "output_type": "execute_result"
    }
   ],
   "source": [
    "from langchain_text_splitters import RecursiveCharacterTextSplitter\n",
    "text_splitter = RecursiveCharacterTextSplitter(chunk_size=500,chunk_overlap=50)\n",
    "document_recieved = text_splitter.split_documents(pages)\n",
    "document_recieved"
   ]
  },
  {
   "cell_type": "code",
   "execution_count": 5,
   "metadata": {},
   "outputs": [
    {
     "name": "stdout",
     "output_type": "stream",
     "text": [
      "page_content='Welcome to Smallpdf\n",
      "Digital Documents—All In One Place\n",
      "Access Files Anytime, Anywhere \n",
      "Enhance Documents in One Click \n",
      "Collaborate With Others \n",
      "With the new Smallpdf experience, you can \n",
      "freely upload, organize, and share digital \n",
      "documents. When you enable the ‘Storage’ \n",
      "option, we’ll also store all processed files here. \n",
      "You can access files stored on Smallpdf from \n",
      "your computer, phone, or tablet. We’ll also \n",
      "sync files from the Smallpdf Mobile App to our \n",
      "online portal' metadata={'source': 'sample.pdf', 'page': 0, 'page_label': '1'}\n"
     ]
    }
   ],
   "source": [
    "print(document_recieved[0])\n"
   ]
  },
  {
   "cell_type": "code",
   "execution_count": 6,
   "metadata": {},
   "outputs": [
    {
     "name": "stdout",
     "output_type": "stream",
     "text": [
      "page_content='online portal\n",
      "When you right-click on a file, we’ll present \n",
      "you with an array of options to convert, \n",
      "compress, or modify it. \n",
      "Forget mundane administrative tasks. With \n",
      "Smallpdf, you can request e-signatures, send \n",
      "large files, or even enable the Smallpdf G Suite \n",
      "App for your entire organization. \n",
      "Ready to take document management to the next level?' metadata={'source': 'sample.pdf', 'page': 0, 'page_label': '1'}\n"
     ]
    }
   ],
   "source": [
    "print(document_recieved[1])"
   ]
  },
  {
   "cell_type": "markdown",
   "metadata": {},
   "source": [
    "the last of words may get repeated since the overlap is 50\n"
   ]
  },
  {
   "cell_type": "markdown",
   "metadata": {},
   "source": [
    "### now creating txt file to document and spiltting the text\n"
   ]
  },
  {
   "cell_type": "code",
   "execution_count": 10,
   "metadata": {},
   "outputs": [
    {
     "data": {
      "text/plain": [
       "[Document(metadata={'source': './speech.md'}, page_content=\"Ladies and gentlemen,\\n\\nToday, we stand at the crossroads of innovation and tradition. Technology has transformed the way we live, work, and communicate. It is our responsibility to harness this power for the greater good.\\n\\nTogether, let's build a future that is inclusive, sustainable, and driven by knowledge.\\n\\nThank you.\\n\")]"
      ]
     },
     "execution_count": 10,
     "metadata": {},
     "output_type": "execute_result"
    }
   ],
   "source": [
    "from langchain_community.document_loaders import TextLoader  #text loader\n",
    "loader = TextLoader('./speech.md')\n",
    "text_document = loader.load() #load the text as document object\n",
    "text_document"
   ]
  },
  {
   "cell_type": "code",
   "execution_count": 14,
   "metadata": {},
   "outputs": [
    {
     "name": "stdout",
     "output_type": "stream",
     "text": [
      "Ladies and gentlemen,\n",
      "\n",
      "Today, we stand at the crossroads of innovation and tradition. Technology has transformed the way we live, work, and communicate. It is our responsibility to harness this power for the greater good.\n",
      "\n",
      "Together, let's build a future that is inclusive, sustainable, and driven by knowledge.\n",
      "\n",
      "Thank you.\n",
      "\n"
     ]
    }
   ],
   "source": [
    "with open(\"speech.md\") as f:\n",
    "    speech = f.read()\n",
    "\n",
    "    print(speech)"
   ]
  },
  {
   "cell_type": "code",
   "execution_count": 21,
   "metadata": {},
   "outputs": [
    {
     "name": "stdout",
     "output_type": "stream",
     "text": [
      "page_content='Ladies and gentlemen,'\n",
      "page_content='Today, we stand at the crossroads of innovation'\n"
     ]
    }
   ],
   "source": [
    "text_splitter = RecursiveCharacterTextSplitter(chunk_size=50,chunk_overlap=25)\n",
    "document_recieved = text_splitter.create_documents([speech])\n",
    "\n",
    "print(document_recieved[0])\n",
    "print(document_recieved[1])"
   ]
  },
  {
   "cell_type": "code",
   "execution_count": 20,
   "metadata": {},
   "outputs": [
    {
     "data": {
      "text/plain": [
       "langchain_core.documents.base.Document"
      ]
     },
     "execution_count": 20,
     "metadata": {},
     "output_type": "execute_result"
    }
   ],
   "source": [
    "type(document_recieved[0])"
   ]
  },
  {
   "cell_type": "code",
   "execution_count": null,
   "metadata": {},
   "outputs": [],
   "source": []
  }
 ],
 "metadata": {
  "kernelspec": {
   "display_name": "venv",
   "language": "python",
   "name": "python3"
  },
  "language_info": {
   "codemirror_mode": {
    "name": "ipython",
    "version": 3
   },
   "file_extension": ".py",
   "mimetype": "text/x-python",
   "name": "python",
   "nbconvert_exporter": "python",
   "pygments_lexer": "ipython3",
   "version": "3.10.16"
  }
 },
 "nbformat": 4,
 "nbformat_minor": 2
}
